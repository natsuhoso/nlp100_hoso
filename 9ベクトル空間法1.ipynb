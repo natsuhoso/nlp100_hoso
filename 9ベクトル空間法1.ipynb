{
 "cells": [
  {
   "cell_type": "markdown",
   "metadata": {},
   "source": [
    "enwiki-20150112-400-r10-105752.txt.bz2は，2015年1月12日時点の英語のWikipedia記事のうち，約400語以上で構成される記事の中から，ランダムに1/10サンプリングした105,752記事のテキストをbzip2形式で圧縮したものである．このテキストをコーパスとして，単語の意味を表すベクトル（分散表現）を学習したい．第9章の前半では，コーパスから作成した単語文脈共起行列に主成分分析を適用し，単語ベクトルを学習する過程を，いくつかの処理に分けて実装する．第9章の後半では，学習で得られた単語ベクトル（300次元）を用い，単語の類似度計算やアナロジー（類推）を行う．\n",
    "\n",
    "なお，問題83を素直に実装すると，大量（約7GB）の主記憶が必要になる． メモリが不足する場合は，処理を工夫するか，1/100サンプリングのコーパスenwiki-20150112-400-r100-10576.txt.bz2を用いよ"
   ]
  },
  {
   "cell_type": "markdown",
   "metadata": {},
   "source": [
    "### 80. コーパスの整形\n",
    "文を単語列に変換する最も単純な方法は，空白文字で単語に区切ることである． ただ，この方法では文末のピリオドや括弧などの記号が単語に含まれてしまう． そこで，コーパスの各行のテキストを空白文字でトークンのリストに分割した後，各トークンに以下の処理を施し，単語から記号を除去せよ．\n",
    "\n",
    " - トークンの先頭と末尾に出現する次の文字を削除: `.,!?;:()[]'\"`\n",
    " - 空文字列となったトークンは削除\n",
    " \n",
    "以上の処理を適用した後，トークンをスペースで連結してファイルに保存せよ．"
   ]
  },
  {
   "cell_type": "code",
   "execution_count": 1,
   "metadata": {},
   "outputs": [],
   "source": [
    "import bz2"
   ]
  },
  {
   "cell_type": "code",
   "execution_count": 31,
   "metadata": {},
   "outputs": [],
   "source": [
    "with bz2.open('data/file80.bz2', 'w'):\n",
    "    pass\n",
    "with bz2.open('data/file80.bz2', 'a')as a:\n",
    "    for line in bz2.open('data/enwiki-20150112-400-r10-105752.txt.bz2'):\n",
    "        lst = [word.strip('.,!?;:()[]\\'\\\"') for word in line.decode().split() if word.strip('.,!?;:()[]\\'\\\"') != '' ]\n",
    "        if lst != []:\n",
    "            a.write((' '.join(lst) + '\\n').encode())"
   ]
  },
  {
   "cell_type": "code",
   "execution_count": 32,
   "metadata": {
    "scrolled": true
   },
   "outputs": [
    {
     "name": "stdout",
     "output_type": "stream",
     "text": [
      "Anarchism\n",
      "\n",
      "Anarchism is a political philosophy that advocates stateless societies often defined as self-governed voluntary institutions but that several authors have defined as more specific institutions based on non-hierarchical free associations Anarchism holds the state to be undesirable unnecessary or harmful While anti-statism is central anarchism entails opposing authority or hierarchical organisation in the conduct of human relations including but not limited to the state system\n",
      "\n",
      "As a subtle and anti-dogmatic philosophy anarchism draws on many currents of thought and strategy Anarchism does not offer a fixed body of doctrine from a single particular world view instead fluxing and flowing as a philosophy There are many types and traditions of anarchism not all of which are mutually exclusive Anarchist schools of thought can differ fundamentally supporting anything from extreme individualism to complete collectivism Strains of anarchism have often been divided into the categories of social and individualist anarchism or similar dual classifications Anarchism is usually considered a radical left-wing ideology and much of anarchist economics and anarchist legal philosophy reflect anti-authoritarian interpretations of communism collectivism syndicalism mutualism or participatory economics\n",
      "\n",
      "The central tendency of anarchism as a social movement has been represented by anarcho-communism and anarcho-syndicalism with individualist anarchism being primarily a literary phenomenon which nevertheless did have an impact on the bigger currents and individualists have also participated in large anarchist organisations Many anarchists oppose all forms of aggression supporting self-defense or non-violence anarcho-pacifism while others have supported the use of some coercive measures including violent revolution and propaganda of the deed as means to achieve anarchist ends\n",
      "\n",
      "Etymology and terminology\n",
      "\n"
     ]
    }
   ],
   "source": [
    "for line, _ in zip(bz2.open('data/file80.bz2'), range(5)):\n",
    "    print(line.decode())"
   ]
  },
  {
   "cell_type": "markdown",
   "metadata": {},
   "source": [
    "### 81. 複合語からなる国名への対処\n",
    "英語では，複数の語の連接が意味を成すことがある．例えば，アメリカ合衆国は\"United States\"，イギリスは\"United Kingdom\"と表現されるが，\"United\"や\"States\"，\"Kingdom\"という単語だけでは，指し示している概念・実体が曖昧である．そこで，コーパス中に含まれる複合語を認識し，複合語を1語として扱うことで，複合語の意味を推定したい．しかしながら，複合語を正確に認定するのは大変むずかしいので，ここでは複合語からなる国名を認定したい．\n",
    "\n",
    "インターネット上から国名リストを各自で入手し，80のコーパス中に出現する複合語の国名に関して，スペースをアンダーバーに置換せよ．例えば，\"United States\"は\"United_States\"，\"Isle of Man\"は\"Isle_of_Man\"になるはずである．"
   ]
  },
  {
   "cell_type": "code",
   "execution_count": 79,
   "metadata": {},
   "outputs": [],
   "source": [
    "import pycountry\n",
    "countries = list(pycountry.countries)"
   ]
  },
  {
   "cell_type": "code",
   "execution_count": 80,
   "metadata": {},
   "outputs": [],
   "source": [
    "def error(i):\n",
    "    try:\n",
    "        i.official_name\n",
    "        return False\n",
    "    except:\n",
    "        return True\n",
    "\n",
    "officials = [i.official_name for i in countries if not error(i)]"
   ]
  },
  {
   "cell_type": "code",
   "execution_count": 86,
   "metadata": {},
   "outputs": [],
   "source": [
    "long_names = [i.name for i in countries if len(i.name.split()) > 1] + [i for i in officials if len(i.split()) > 1]"
   ]
  },
  {
   "cell_type": "code",
   "execution_count": 105,
   "metadata": {},
   "outputs": [],
   "source": [
    "with bz2.open('data/file81.bz2', 'w'):\n",
    "    pass\n",
    "with bz2.open('data/file81.bz2', 'a')as a:\n",
    "    for line in bz2.open('data/file80.bz2'):\n",
    "        data = line.decode()\n",
    "        for name in long_names:\n",
    "            if name in data:\n",
    "                data = data.replace(name, '_'.join(name.split()))\n",
    "        a.write(data.encode())"
   ]
  },
  {
   "cell_type": "code",
   "execution_count": 109,
   "metadata": {
    "scrolled": true
   },
   "outputs": [
    {
     "name": "stdout",
     "output_type": "stream",
     "text": [
      "Beltane is the Gaelic May Day festival Most commonly it is held on 30 April but sometimes on 1 May or about halfway between the spring equinox and the summer solstice Historically it was widely observed throughout Ireland Scotland and the Isle_of_Man In Irish it is Bealtaine in Scottish Gaelic Bealltainn and in Manx Gaelic Boaltinn or Boaldyn It is one of the four Gaelic seasonal festivals—along with Samhain Imbolc and Lughnasadh—and is similar to the Welsh Calan Mai\n",
      "\n",
      "Bonfires continued to be a key part of the festival in the modern era and were generally lit on mountains and hills Ronald Hutton writes that To increase the potency of the holy flames in Britain at least they were often kindled by the most primitive of all means of friction between wood In the 19th century for example John Ramsay described Scottish Highlanders kindling a need-fire or force-fire at Beltane Such a fire was deemed sacred In the 19th century the ritual of driving cattle between two fires—as described in Sanas Cormaic almost 1000 years before—was still practised across most of Ireland and in parts of Scotland Sometimes the cattle would be driven around a bonfire or be made to leap over flames or embers The people themselves would do likewise In the Isle_of_Man people ensured that the smoke blew over them and their cattle On Beltane Eve all hearth fires and candles would be doused and at the end of the festival they would be re-lit from the Beltane bonfire When the bonfire had died down its ashes were thrown among the sprouting crops From these rituals it is clear that the fire was seen as having protective powers Similar rituals were part of May Day Midsummer or Easter customs in other parts of the British Isles and mainland Europe According to Frazer the fire rituals are a kind of imitative or sympathetic magic According to one theory they were meant to mimic the Sun and to ensure a needful supply of sunshine for men animals and plants According to another they were meant to symbolically burn up and destroy all harmful influences\n",
      "\n",
      "The American Red Cross policy is as follows During the period January 1 1980 to December 31 1996 spending a total time of three months or more in the Channel Islands England the Falkland Islands the Isle_of_Man Gibraltar Northern Ireland Scotland and Wales precludes individuals from donating Moreover spending a total time of five years or more after January 1 1980 to present in the above-mentioned countries and/or any country in Europe except the former USSR also precludes donation People with a biologic relative having been diagnosed with CJD or vCJD are unable to donate Biologic relative in this setting means mother father sibling grandparent aunt uncle or child\n",
      "\n",
      "In New_Zealand the New_Zealand Blood Service NZBS in 2000 introduced measures to preclude permanently donors having resided in the United_Kingdom including the Isle_of_Man and the Channel Islands for a total of six months or more between January 1980 and December 1996 The measure resulted in ten percent of New_Zealand's active blood donors at the time becoming ineligible to donate blood In 2003 the NZBS further extended restrictions to preclude permanently donors having had received a blood transfusion in the United_Kingdom since January 1980 and in April 2006 restrictions were further extended to include the Republic of Ireland and France\n",
      "\n",
      "In addition to England the jurisdiction of the Church of England extends to the Isle_of_Man the Channel Islands and a few parishes in Flintshire Monmouthshire and Radnorshire in Wales Expatriate congregations on the continent of Europe have become the Diocese of Gibraltar in Europe\n",
      "\n"
     ]
    }
   ],
   "source": [
    "i=0\n",
    "for line in bz2.open('data/file81.bz2'):\n",
    "    if 'Isle_of_Man' in line.decode():\n",
    "        print(line.decode())\n",
    "        i=i+1\n",
    "    if i==5:\n",
    "        break"
   ]
  },
  {
   "cell_type": "code",
   "execution_count": null,
   "metadata": {},
   "outputs": [],
   "source": []
  }
 ],
 "metadata": {
  "kernelspec": {
   "display_name": "Python 3",
   "language": "python",
   "name": "python3"
  },
  "language_info": {
   "codemirror_mode": {
    "name": "ipython",
    "version": 3
   },
   "file_extension": ".py",
   "mimetype": "text/x-python",
   "name": "python",
   "nbconvert_exporter": "python",
   "pygments_lexer": "ipython3",
   "version": "3.7.2"
  }
 },
 "nbformat": 4,
 "nbformat_minor": 2
}
