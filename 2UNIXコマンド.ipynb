{
 "cells": [
  {
   "cell_type": "code",
   "execution_count": 3,
   "metadata": {},
   "outputs": [],
   "source": [
    "import subprocess\n",
    "def system(command, **options):\n",
    "    proc = subprocess.Popen(command, shell=True,\n",
    "                            stdout=subprocess.PIPE,\n",
    "                            **options)\n",
    "    return proc.communicate()[0].decode('utf-8')\n",
    "\n",
    "def cat(filepath):\n",
    "    return system(f'cat {filepath}')"
   ]
  },
  {
   "cell_type": "markdown",
   "metadata": {},
   "source": [
    "### hightemp.txt"
   ]
  },
  {
   "cell_type": "code",
   "execution_count": 4,
   "metadata": {},
   "outputs": [],
   "source": [
    "with open('data/hightemp.txt') as r:\n",
    "    hightemp = r.read()"
   ]
  },
  {
   "cell_type": "markdown",
   "metadata": {},
   "source": [
    "### 10"
   ]
  },
  {
   "cell_type": "code",
   "execution_count": 5,
   "metadata": {},
   "outputs": [
    {
     "data": {
      "text/plain": [
       "24"
      ]
     },
     "execution_count": 5,
     "metadata": {},
     "output_type": "execute_result"
    }
   ],
   "source": [
    "hightemp.count('\\n')"
   ]
  },
  {
   "cell_type": "code",
   "execution_count": 6,
   "metadata": {
    "scrolled": true
   },
   "outputs": [
    {
     "data": {
      "text/plain": [
       "''"
      ]
     },
     "execution_count": 6,
     "metadata": {},
     "output_type": "execute_result"
    }
   ],
   "source": [
    "system(f'wc -l hightemp.txt\\n')"
   ]
  },
  {
   "cell_type": "markdown",
   "metadata": {},
   "source": [
    "### 11"
   ]
  },
  {
   "cell_type": "code",
   "execution_count": 7,
   "metadata": {},
   "outputs": [
    {
     "data": {
      "text/plain": [
       "'高知県 江川崎 41 2013-08-12\\n埼玉県 熊谷 40.9 2007-08-16\\n岐阜県 多治見 40.9 2007-08-16\\n山形県 山形 40.8 1933-07-25\\n山梨県 甲府 40.7 2013-08-10\\n和歌山県 かつらぎ 40.6 1994-08-08\\n静岡県 天竜 40.6 1994-08-04\\n山梨県 勝沼 40.5 2013-08-10\\n埼玉県 越谷 40.4 2007-08-16\\n群馬県 館林 40.3 2007-08-16\\n群馬県 上里見 40.3 1998-07-04\\n愛知県 愛西 40.3 1994-08-05\\n千葉県 牛久 40.2 2004-07-20\\n静岡県 佐久間 40.2 2001-07-24\\n愛媛県 宇和島 40.2 1927-07-22\\n山形県 酒田 40.1 1978-08-03\\n岐阜県 美濃 40 2007-08-16\\n群馬県 前橋 40 2001-07-24\\n千葉県 茂原 39.9 2013-08-11\\n埼玉県 鳩山 39.9 1997-07-05\\n大阪府 豊中 39.9 1994-08-08\\n山梨県 大月 39.9 1990-07-19\\n山形県 鶴岡 39.9 1978-08-03\\n愛知県 名古屋 39.9 1942-08-02\\n'"
      ]
     },
     "execution_count": 7,
     "metadata": {},
     "output_type": "execute_result"
    }
   ],
   "source": [
    "hightemp.replace('\\t',' ')"
   ]
  },
  {
   "cell_type": "code",
   "execution_count": 10,
   "metadata": {},
   "outputs": [
    {
     "data": {
      "text/plain": [
       "True"
      ]
     },
     "execution_count": 10,
     "metadata": {},
     "output_type": "execute_result"
    }
   ],
   "source": [
    "hightemp.replace('\\t',' ') == system(f\"tr '\\t' ' ' < data/hightemp.txt\")"
   ]
  },
  {
   "cell_type": "code",
   "execution_count": null,
   "metadata": {},
   "outputs": [],
   "source": []
  }
 ],
 "metadata": {
  "kernelspec": {
   "display_name": "Python 3",
   "language": "python",
   "name": "python3"
  },
  "language_info": {
   "codemirror_mode": {
    "name": "ipython",
    "version": 3
   },
   "file_extension": ".py",
   "mimetype": "text/x-python",
   "name": "python",
   "nbconvert_exporter": "python",
   "pygments_lexer": "ipython3",
   "version": "3.7.1"
  }
 },
 "nbformat": 4,
 "nbformat_minor": 2
}
