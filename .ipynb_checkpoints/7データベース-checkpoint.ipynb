{
 "cells": [
  {
   "cell_type": "markdown",
   "metadata": {},
   "source": [
    "### 60. KVSの構築\n",
    "Key-Value-Store (KVS) を用い，アーティスト名（name）から活動場所（area）を検索するためのデータベースを構築せよ．"
   ]
  },
  {
   "cell_type": "code",
   "execution_count": 9,
   "metadata": {},
   "outputs": [],
   "source": [
    "import leveldb\n",
    "db60 = leveldb.LevelDB('data/db60')"
   ]
  },
  {
   "cell_type": "code",
   "execution_count": 1,
   "metadata": {},
   "outputs": [],
   "source": [
    "import gzip\n",
    "import json"
   ]
  },
  {
   "cell_type": "code",
   "execution_count": 10,
   "metadata": {},
   "outputs": [],
   "source": [
    "for line in gzip.open('data/artist.json.gz'):\n",
    "    data  = json.loads(line)\n",
    "    name = (data['name'] + ' ' + str(data['id'])).encode()\n",
    "    area = data.get('area', 'NODATA').encode()\n",
    "    db60.Put(name, area)"
   ]
  },
  {
   "cell_type": "markdown",
   "metadata": {},
   "source": [
    "### 61. KVSの検索\n",
    "60で構築したデータベースを用い，特定の（指定された）アーティストの活動場所を取得せよ．"
   ]
  },
  {
   "cell_type": "code",
   "execution_count": 4,
   "metadata": {},
   "outputs": [],
   "source": [
    "def where(name):\n",
    "    for k, v in db60.RangeIter(key_from=name.encode(), key_to=(name + chr(33)).encode()):\n",
    "        artist = k.decode().split()[0]\n",
    "        place = v.decode()\n",
    "        print(artist + '\\t' + place)"
   ]
  },
  {
   "cell_type": "code",
   "execution_count": 5,
   "metadata": {},
   "outputs": [
    {
     "name": "stdout",
     "output_type": "stream",
     "text": [
      "Oasis\tUnited Kingdom\n",
      "Oasis\tUnited States\n",
      "Oasis\tUnited Kingdom\n",
      "Oasis\tNODATA\n",
      "Oasis\tNODATA\n",
      "Oasis\tKent\n"
     ]
    }
   ],
   "source": [
    "where('Oasis')"
   ]
  },
  {
   "cell_type": "markdown",
   "metadata": {},
   "source": [
    "### 62. KVS内の反復処理\n",
    "60で構築したデータベースを用い，活動場所が「Japan」となっているアーティスト数を求めよ．"
   ]
  },
  {
   "cell_type": "code",
   "execution_count": 6,
   "metadata": {},
   "outputs": [
    {
     "name": "stdout",
     "output_type": "stream",
     "text": [
      "22821\n"
     ]
    }
   ],
   "source": [
    "i = 0\n",
    "for k, v in db60.RangeIter():\n",
    "    if v.decode() == 'Japan':\n",
    "        i = i + 1\n",
    "print(i)"
   ]
  },
  {
   "cell_type": "markdown",
   "metadata": {},
   "source": [
    "### 63. オブジェクトを値に格納したKVS\n",
    "KVSを用い，アーティスト名（name）からタグと被タグ数（タグ付けされた回数）のリストを検索するためのデータベースを構築せよ．さらに，ここで構築したデータベースを用い，アーティスト名からタグと被タグ数を検索せよ．"
   ]
  },
  {
   "cell_type": "code",
   "execution_count": 7,
   "metadata": {},
   "outputs": [],
   "source": [
    "db63 = leveldb.LevelDB('data/db63')"
   ]
  },
  {
   "cell_type": "code",
   "execution_count": 8,
   "metadata": {},
   "outputs": [],
   "source": [
    "for line in gzip.open('data/artist.json.gz'):\n",
    "    data  = json.loads(line)\n",
    "    name = (data['name'] + ' ' + str(data['id'])).encode()\n",
    "    if 'tags' in data:\n",
    "        tags = ' '.join([tag['value'] + ' ' + str(tag['count']) for tag in data['tags']]).encode()\n",
    "    else:\n",
    "        tags = 'NOTAGS'.encode()\n",
    "    db63.Put(name, tags)"
   ]
  },
  {
   "cell_type": "code",
   "execution_count": 9,
   "metadata": {},
   "outputs": [],
   "source": [
    "def taged(name):\n",
    "    for k, v in db63.RangeIter(key_from=name.encode(), key_to=(name + chr(33)).encode()):\n",
    "        artist = k.decode().split()[0]\n",
    "        tags = v.decode()\n",
    "        print(artist + '\\t' + tags)"
   ]
  },
  {
   "cell_type": "code",
   "execution_count": 10,
   "metadata": {},
   "outputs": [
    {
     "name": "stdout",
     "output_type": "stream",
     "text": [
      "Oasis\trock 1 britpop 3 british 4 uk 1 britannique 1 rock and indie 1 england 1 manchester 1\n",
      "Oasis\tNOTAGS\n",
      "Oasis\tmorning glory 1 oasis 1\n",
      "Oasis\tNOTAGS\n",
      "Oasis\tNOTAGS\n",
      "Oasis\tNOTAGS\n"
     ]
    }
   ],
   "source": [
    "taged('Oasis')"
   ]
  },
  {
   "cell_type": "markdown",
   "metadata": {},
   "source": [
    "### 64. MongoDBの構築\n",
    "アーティスト情報（artist.json.gz）をデータベースに登録せよ．さらに，次のフィールドでインデックスを作成せよ: name, aliases.name, tags.value, rating.value"
   ]
  },
  {
   "cell_type": "code",
   "execution_count": 2,
   "metadata": {},
   "outputs": [],
   "source": [
    "from pymongo import MongoClient\n",
    "client = MongoClient('localhost', 27017)"
   ]
  },
  {
   "cell_type": "code",
   "execution_count": 3,
   "metadata": {},
   "outputs": [],
   "source": [
    "db = client['database64']"
   ]
  },
  {
   "cell_type": "code",
   "execution_count": 4,
   "metadata": {},
   "outputs": [],
   "source": [
    "collection = db['collection64']"
   ]
  },
  {
   "cell_type": "code",
   "execution_count": 6,
   "metadata": {},
   "outputs": [],
   "source": [
    "for line in gzip.open('data/artist.json.gz'):\n",
    "    data  = json.loads(line)\n",
    "    collection.insert_one(data)"
   ]
  },
  {
   "cell_type": "code",
   "execution_count": 8,
   "metadata": {},
   "outputs": [
    {
     "data": {
      "text/plain": [
       "921337"
      ]
     },
     "execution_count": 8,
     "metadata": {},
     "output_type": "execute_result"
    }
   ],
   "source": [
    "collection.count_documents({})"
   ]
  },
  {
   "cell_type": "code",
   "execution_count": 20,
   "metadata": {},
   "outputs": [
    {
     "data": {
      "text/plain": [
       "['_id_', 'name_1']"
      ]
     },
     "execution_count": 20,
     "metadata": {},
     "output_type": "execute_result"
    }
   ],
   "source": [
    "sorted(list(collection.index_information()))[:10]"
   ]
  },
  {
   "cell_type": "code",
   "execution_count": 19,
   "metadata": {},
   "outputs": [
    {
     "data": {
      "text/plain": [
       "'name_1'"
      ]
     },
     "execution_count": 19,
     "metadata": {},
     "output_type": "execute_result"
    }
   ],
   "source": [
    "collection.create_index('name')"
   ]
  },
  {
   "cell_type": "code",
   "execution_count": 45,
   "metadata": {},
   "outputs": [
    {
     "data": {
      "text/plain": [
       "'aliases.name_1'"
      ]
     },
     "execution_count": 45,
     "metadata": {},
     "output_type": "execute_result"
    }
   ],
   "source": [
    "collection.create_index('aliases.name')"
   ]
  },
  {
   "cell_type": "code",
   "execution_count": 48,
   "metadata": {},
   "outputs": [
    {
     "data": {
      "text/plain": [
       "'tags.value_1'"
      ]
     },
     "execution_count": 48,
     "metadata": {},
     "output_type": "execute_result"
    }
   ],
   "source": [
    "collection.create_index('tags.value')"
   ]
  },
  {
   "cell_type": "code",
   "execution_count": 61,
   "metadata": {},
   "outputs": [
    {
     "data": {
      "text/plain": [
       "'rating.value_1'"
      ]
     },
     "execution_count": 61,
     "metadata": {},
     "output_type": "execute_result"
    }
   ],
   "source": [
    "collection.create_index('rating.value')"
   ]
  },
  {
   "cell_type": "markdown",
   "metadata": {},
   "source": [
    "### 65. MongoDBの検索\n",
    "MongoDBのインタラクティブシェルを用いて，\"Queen\"というアーティストに関する情報を取得せよ．さらに，これと同様の処理を行うプログラムを実装せよ．"
   ]
  },
  {
   "cell_type": "markdown",
   "metadata": {},
   "source": [
    "mongo shellの実行結果\n",
    "\n",
    "```> db.collection64.find({name:\"Queen\"})\n",
    "{ \"_id\" : ObjectId(\"5cb96ae882efee22526bbdab\"), \"name\" : \"Queen\", \"area\" : \"Japan\", \"gender\" : \"Female\", \"tags\" : [ { \"count\" : 1, \"value\" : \"kamen rider w\" }, { \"count\" : 1, \"value\" : \"related-akb48\" } ], \"sort_name\" : \"Queen\", \"ended\" : true, \"gid\" : \"420ca290-76c5-41af-999e-564d7c71f1a7\", \"type\" : \"Character\", \"id\" : 701492, \"aliases\" : [ { \"name\" : \"Queen\", \"sort_name\" : \"Queen\" } ] }\n",
    "{ \"_id\" : ObjectId(\"5cb96b0882efee22526c8457\"), \"rating\" : { \"count\" : 24, \"value\" : 92 }, \"begin\" : { \"date\" : 27, \"month\" : 6, \"year\" : 1970 }, \"name\" : \"Queen\", \"area\" : \"United Kingdom\", \"tags\" : [ { \"count\" : 2, \"value\" : \"hard rock\" }, { \"count\" : 1, \"value\" : \"70s\" }, { \"count\" : 1, \"value\" : \"queen family\" }, { \"count\" : 1, \"value\" : \"90s\" }, { \"count\" : 1, \"value\" : \"80s\" }, { \"count\" : 1, \"value\" : \"glam rock\" }, { \"count\" : 4, \"value\" : \"british\" }, { \"count\" : 1, \"value\" : \"english\" }, { \"count\" : 2, \"value\" : \"uk\" }, { \"count\" : 1, \"value\" : \"pop/rock\" }, { \"count\" : 1, \"value\" : \"pop-rock\" }, { \"count\" : 1, \"value\" : \"britannique\" }, { \"count\" : 1, \"value\" : \"classic pop and rock\" }, { \"count\" : 1, \"value\" : \"queen\" }, { \"count\" : 1, \"value\" : \"united kingdom\" }, { \"count\" : 1, \"value\" : \"langham 1 studio bbc\" }, { \"count\" : 1, \"value\" : \"kind of magic\" }, { \"count\" : 1, \"value\" : \"band\" }, { \"count\" : 6, \"value\" : \"rock\" }, { \"count\" : 1, \"value\" : \"platinum\" } ], \"sort_name\" : \"Queen\", \"ended\" : true, \"gid\" : \"0383dadf-2a4e-4d10-a46a-e9e041da8eb3\", \"type\" : \"Group\", \"id\" : 192, \"aliases\" : [ { \"name\" : \"女王\", \"sort_name\" : \"女王\" } ] }\n",
    "{ \"_id\" : ObjectId(\"5cb96b4f82efee22526e3eaf\"), \"ended\" : true, \"gid\" : \"5eecaf18-02ec-47af-a4f2-7831db373419\", \"sort_name\" : \"Queen\", \"id\" : 992994, \"name\" : \"Queen\" }```"
   ]
  },
  {
   "cell_type": "code",
   "execution_count": 63,
   "metadata": {},
   "outputs": [
    {
     "name": "stdout",
     "output_type": "stream",
     "text": [
      "{'_id': ObjectId('5cb96ae882efee22526bbdab'), 'name': 'Queen', 'area': 'Japan', 'gender': 'Female', 'tags': [{'count': 1, 'value': 'kamen rider w'}, {'count': 1, 'value': 'related-akb48'}], 'sort_name': 'Queen', 'ended': True, 'gid': '420ca290-76c5-41af-999e-564d7c71f1a7', 'type': 'Character', 'id': 701492, 'aliases': [{'name': 'Queen', 'sort_name': 'Queen'}]}\n",
      "{'_id': ObjectId('5cb96b0882efee22526c8457'), 'rating': {'count': 24, 'value': 92}, 'begin': {'date': 27, 'month': 6, 'year': 1970}, 'name': 'Queen', 'area': 'United Kingdom', 'tags': [{'count': 2, 'value': 'hard rock'}, {'count': 1, 'value': '70s'}, {'count': 1, 'value': 'queen family'}, {'count': 1, 'value': '90s'}, {'count': 1, 'value': '80s'}, {'count': 1, 'value': 'glam rock'}, {'count': 4, 'value': 'british'}, {'count': 1, 'value': 'english'}, {'count': 2, 'value': 'uk'}, {'count': 1, 'value': 'pop/rock'}, {'count': 1, 'value': 'pop-rock'}, {'count': 1, 'value': 'britannique'}, {'count': 1, 'value': 'classic pop and rock'}, {'count': 1, 'value': 'queen'}, {'count': 1, 'value': 'united kingdom'}, {'count': 1, 'value': 'langham 1 studio bbc'}, {'count': 1, 'value': 'kind of magic'}, {'count': 1, 'value': 'band'}, {'count': 6, 'value': 'rock'}, {'count': 1, 'value': 'platinum'}], 'sort_name': 'Queen', 'ended': True, 'gid': '0383dadf-2a4e-4d10-a46a-e9e041da8eb3', 'type': 'Group', 'id': 192, 'aliases': [{'name': '女王', 'sort_name': '女王'}]}\n",
      "{'_id': ObjectId('5cb96b4f82efee22526e3eaf'), 'ended': True, 'gid': '5eecaf18-02ec-47af-a4f2-7831db373419', 'sort_name': 'Queen', 'id': 992994, 'name': 'Queen'}\n"
     ]
    }
   ],
   "source": [
    "for post in collection.find({'name':'Queen'}):\n",
    "    print(post)"
   ]
  },
  {
   "cell_type": "markdown",
   "metadata": {},
   "source": [
    "### 66. 検索件数の取得\n",
    "MongoDBのインタラクティブシェルを用いて，活動場所が「Japan」となっているアーティスト数を求めよ．"
   ]
  },
  {
   "cell_type": "markdown",
   "metadata": {},
   "source": [
    "mongo shellの実行結果\n",
    "\n",
    "```> db.collection64.find({area:\"Japan\"}).count()\n",
    "22821```"
   ]
  },
  {
   "cell_type": "markdown",
   "metadata": {},
   "source": [
    "### 67. 複数のドキュメントの取得\n",
    "特定の（指定した）別名を持つアーティストを検索せよ．"
   ]
  },
  {
   "cell_type": "code",
   "execution_count": 64,
   "metadata": {
    "scrolled": true
   },
   "outputs": [
    {
     "name": "stdout",
     "output_type": "stream",
     "text": [
      "{'_id': ObjectId('5cb96b0882efee22526c8457'), 'rating': {'count': 24, 'value': 92}, 'begin': {'date': 27, 'month': 6, 'year': 1970}, 'name': 'Queen', 'area': 'United Kingdom', 'tags': [{'count': 2, 'value': 'hard rock'}, {'count': 1, 'value': '70s'}, {'count': 1, 'value': 'queen family'}, {'count': 1, 'value': '90s'}, {'count': 1, 'value': '80s'}, {'count': 1, 'value': 'glam rock'}, {'count': 4, 'value': 'british'}, {'count': 1, 'value': 'english'}, {'count': 2, 'value': 'uk'}, {'count': 1, 'value': 'pop/rock'}, {'count': 1, 'value': 'pop-rock'}, {'count': 1, 'value': 'britannique'}, {'count': 1, 'value': 'classic pop and rock'}, {'count': 1, 'value': 'queen'}, {'count': 1, 'value': 'united kingdom'}, {'count': 1, 'value': 'langham 1 studio bbc'}, {'count': 1, 'value': 'kind of magic'}, {'count': 1, 'value': 'band'}, {'count': 6, 'value': 'rock'}, {'count': 1, 'value': 'platinum'}], 'sort_name': 'Queen', 'ended': True, 'gid': '0383dadf-2a4e-4d10-a46a-e9e041da8eb3', 'type': 'Group', 'id': 192, 'aliases': [{'name': '女王', 'sort_name': '女王'}]}\n"
     ]
    }
   ],
   "source": [
    "for post in collection.find({'aliases.name':'女王'}):\n",
    "    print(post)"
   ]
  },
  {
   "cell_type": "markdown",
   "metadata": {},
   "source": [
    "### 68. ソート\n",
    "\"dance\"というタグを付与されたアーティストの中でレーティングの投票数が多いアーティスト・トップ10を求めよ．"
   ]
  },
  {
   "cell_type": "code",
   "execution_count": 77,
   "metadata": {},
   "outputs": [],
   "source": [
    "import pymongo"
   ]
  },
  {
   "cell_type": "code",
   "execution_count": 89,
   "metadata": {
    "scrolled": true
   },
   "outputs": [
    {
     "name": "stdout",
     "output_type": "stream",
     "text": [
      "1位\t26票\tMadonna\n",
      "2位\t23票\tBjörk\n",
      "3位\t23票\tThe Prodigy\n",
      "4位\t15票\tRihanna\n",
      "5位\t13票\tBritney Spears\n",
      "6位\t11票\tMaroon 5\n",
      "7位\t7票\tAdam Lambert\n",
      "8位\t7票\tFatboy Slim\n",
      "9位\t6票\tBasement Jaxx\n",
      "10位\t5票\tCornershop\n"
     ]
    }
   ],
   "source": [
    "for post, i in zip(collection.find({'tags.value':'dance'}).sort('rating.count', pymongo.DESCENDING), range(10)):\n",
    "    print(str(i+1)+ '位' + '\\t' + str(post['rating']['count']) + '票' + '\\t' + post['name'])"
   ]
  },
  {
   "cell_type": "markdown",
   "metadata": {},
   "source": [
    "### 69. Webアプリケーションの作成\n",
    "ユーザから入力された検索条件に合致するアーティストの情報を表示するWebアプリケーションを作成せよ．アーティスト名，アーティストの別名，タグ等で検索条件を指定し，アーティスト情報のリストをレーティングの高い順などで整列して表示せよ．"
   ]
  },
  {
   "cell_type": "code",
   "execution_count": null,
   "metadata": {},
   "outputs": [],
   "source": []
  }
 ],
 "metadata": {
  "kernelspec": {
   "display_name": "Python 3",
   "language": "python",
   "name": "python3"
  },
  "language_info": {
   "codemirror_mode": {
    "name": "ipython",
    "version": 3
   },
   "file_extension": ".py",
   "mimetype": "text/x-python",
   "name": "python",
   "nbconvert_exporter": "python",
   "pygments_lexer": "ipython3",
   "version": "3.7.2"
  }
 },
 "nbformat": 4,
 "nbformat_minor": 2
}
