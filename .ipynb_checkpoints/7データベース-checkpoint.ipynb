{
 "cells": [
  {
   "cell_type": "markdown",
   "metadata": {},
   "source": [
    "### 60. KVSの構築\n",
    "Key-Value-Store (KVS) を用い，アーティスト名（name）から活動場所（area）を検索するためのデータベースを構築せよ．"
   ]
  },
  {
   "cell_type": "code",
   "execution_count": 1,
   "metadata": {},
   "outputs": [],
   "source": [
    "import leveldb\n",
    "db60 = leveldb.LevelDB('data/db60')"
   ]
  },
  {
   "cell_type": "code",
   "execution_count": 2,
   "metadata": {},
   "outputs": [],
   "source": [
    "import gzip\n",
    "import json"
   ]
  },
  {
   "cell_type": "code",
   "execution_count": 3,
   "metadata": {},
   "outputs": [],
   "source": [
    "for line in gzip.open('data/artist.json.gz'):\n",
    "    data  = json.loads(line)\n",
    "    name = (data['name'] + ' ' + str(data['id'])).encode()\n",
    "    area = data.get('area', 'NODATA').encode()\n",
    "    db60.Put(name, area)"
   ]
  },
  {
   "cell_type": "markdown",
   "metadata": {},
   "source": [
    "### 61. KVSの検索\n",
    "60で構築したデータベースを用い，特定の（指定された）アーティストの活動場所を取得せよ．"
   ]
  },
  {
   "cell_type": "code",
   "execution_count": 4,
   "metadata": {},
   "outputs": [],
   "source": [
    "def where(name):\n",
    "    for k, v in db60.RangeIter(key_from=name.encode(), key_to=(name + chr(33)).encode()):\n",
    "        artist = k.decode().split()[0]\n",
    "        place = v.decode()\n",
    "        print(artist + '\\t' + place)"
   ]
  },
  {
   "cell_type": "code",
   "execution_count": 5,
   "metadata": {},
   "outputs": [
    {
     "name": "stdout",
     "output_type": "stream",
     "text": [
      "Oasis\tUnited Kingdom\n",
      "Oasis\tUnited States\n",
      "Oasis\tUnited Kingdom\n",
      "Oasis\tNODATA\n",
      "Oasis\tNODATA\n",
      "Oasis\tKent\n"
     ]
    }
   ],
   "source": [
    "where('Oasis')"
   ]
  },
  {
   "cell_type": "markdown",
   "metadata": {},
   "source": [
    "### 62. KVS内の反復処理\n",
    "60で構築したデータベースを用い，活動場所が「Japan」となっているアーティスト数を求めよ．"
   ]
  },
  {
   "cell_type": "code",
   "execution_count": 6,
   "metadata": {},
   "outputs": [
    {
     "name": "stdout",
     "output_type": "stream",
     "text": [
      "22821\n"
     ]
    }
   ],
   "source": [
    "i = 0\n",
    "for k, v in db60.RangeIter():\n",
    "    if v.decode() == 'Japan':\n",
    "        i = i + 1\n",
    "print(i)"
   ]
  },
  {
   "cell_type": "markdown",
   "metadata": {},
   "source": [
    "### 63. オブジェクトを値に格納したKVS\n",
    "KVSを用い，アーティスト名（name）からタグと被タグ数（タグ付けされた回数）のリストを検索するためのデータベースを構築せよ．さらに，ここで構築したデータベースを用い，アーティスト名からタグと被タグ数を検索せよ．"
   ]
  },
  {
   "cell_type": "code",
   "execution_count": 7,
   "metadata": {},
   "outputs": [],
   "source": [
    "db63 = leveldb.LevelDB('data/db63')"
   ]
  },
  {
   "cell_type": "code",
   "execution_count": 8,
   "metadata": {},
   "outputs": [],
   "source": [
    "for line in gzip.open('data/artist.json.gz'):\n",
    "    data  = json.loads(line)\n",
    "    name = (data['name'] + ' ' + str(data['id'])).encode()\n",
    "    if 'tags' in data:\n",
    "        tags = ' '.join([tag['value'] + ' ' + str(tag['count']) for tag in data['tags']]).encode()\n",
    "    else:\n",
    "        tags = 'NOTAGS'.encode()\n",
    "    db63.Put(name, tags)"
   ]
  },
  {
   "cell_type": "code",
   "execution_count": 9,
   "metadata": {},
   "outputs": [],
   "source": [
    "def taged(name):\n",
    "    for k, v in db63.RangeIter(key_from=name.encode(), key_to=(name + chr(33)).encode()):\n",
    "        artist = k.decode().split()[0]\n",
    "        tags = v.decode()\n",
    "        print(artist + '\\t' + tags)"
   ]
  },
  {
   "cell_type": "code",
   "execution_count": 10,
   "metadata": {},
   "outputs": [
    {
     "name": "stdout",
     "output_type": "stream",
     "text": [
      "Oasis\trock 1 britpop 3 british 4 uk 1 britannique 1 rock and indie 1 england 1 manchester 1\n",
      "Oasis\tNOTAGS\n",
      "Oasis\tmorning glory 1 oasis 1\n",
      "Oasis\tNOTAGS\n",
      "Oasis\tNOTAGS\n",
      "Oasis\tNOTAGS\n"
     ]
    }
   ],
   "source": [
    "taged('Oasis')"
   ]
  },
  {
   "cell_type": "markdown",
   "metadata": {},
   "source": [
    "### 64. MongoDBの構築\n",
    "アーティスト情報（artist.json.gz）をデータベースに登録せよ．さらに，次のフィールドでインデックスを作成せよ: name, aliases.name, tags.value, rating.value"
   ]
  },
  {
   "cell_type": "code",
   "execution_count": null,
   "metadata": {},
   "outputs": [],
   "source": []
  }
 ],
 "metadata": {
  "kernelspec": {
   "display_name": "Python 3",
   "language": "python",
   "name": "python3"
  },
  "language_info": {
   "codemirror_mode": {
    "name": "ipython",
    "version": 3
   },
   "file_extension": ".py",
   "mimetype": "text/x-python",
   "name": "python",
   "nbconvert_exporter": "python",
   "pygments_lexer": "ipython3",
   "version": "3.7.2"
  }
 },
 "nbformat": 4,
 "nbformat_minor": 2
}
