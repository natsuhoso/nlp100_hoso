{
 "cells": [
  {
   "cell_type": "markdown",
   "metadata": {},
   "source": [
    "### 70. データの入手・整形\n",
    "文に関する極性分析の正解データを用い，以下の要領で正解データ（sentiment.txt）を作成せよ．\n",
    "\n",
    "1. rt-polarity.posの各行の先頭に\"+1 \"という文字列を追加する（極性ラベル\"+1\"とスペースに続けて肯定的な文の内容が続く）\n",
    "2. rt-polarity.negの各行の先頭に\"-1 \"という文字列を追加する（極性ラベル\"-1\"とスペースに続けて否定的な文の内容が続く）\n",
    "3. 上述1と2の内容を結合（concatenate）し，行をランダムに並び替える\n",
    "\n",
    "sentiment.txtを作成したら，正例（肯定的な文）の数と負例（否定的な文）の数を確認せよ．"
   ]
  },
  {
   "cell_type": "code",
   "execution_count": 1,
   "metadata": {},
   "outputs": [],
   "source": [
    "with open('data/sentiment.txt', 'w'):\n",
    "    pass\n",
    "with open('data/sentiment.txt', 'a')as a:\n",
    "    for pos, neg in zip(open('data/rt-polarity.pos'), open('data/rt-polarity.neg')):\n",
    "        a.write('+1 ' + pos)\n",
    "        a.write('-1 ' + neg)"
   ]
  },
  {
   "cell_type": "code",
   "execution_count": 2,
   "metadata": {},
   "outputs": [],
   "source": [
    "!sort data/sentiment.txt -R -o data/sentiment.txt"
   ]
  },
  {
   "cell_type": "code",
   "execution_count": 3,
   "metadata": {},
   "outputs": [
    {
     "name": "stdout",
     "output_type": "stream",
     "text": [
      "5331\n",
      "5331\n"
     ]
    }
   ],
   "source": [
    "pos = 0\n",
    "neg = 0\n",
    "for line in open('data/sentiment.txt'):\n",
    "    if line[:2] == '+1':\n",
    "        pos = pos + 1\n",
    "    else:\n",
    "        neg = neg + 1\n",
    "print(pos)\n",
    "print(neg)"
   ]
  },
  {
   "cell_type": "markdown",
   "metadata": {},
   "source": [
    "### 71. ストップワード\n",
    "英語のストップワードのリスト（ストップリスト）を適当に作成せよ．さらに，引数に与えられた単語（文字列）がストップリストに含まれている場合は真，それ以外は偽を返す関数を実装せよ．さらに，その関数に対するテストを記述せよ．\n",
    "\n",
    "ストップワード：自然言語を処理するにあたって一般的であるなどの理由で処理対象外とする単語"
   ]
  },
  {
   "cell_type": "code",
   "execution_count": 40,
   "metadata": {},
   "outputs": [],
   "source": [
    "#ググって拾ってきた\n",
    "stop_words=[\"(\", \")\", \"--\", \",\", \".\", \";\", \":\", \"\\'\", \"\\\"\", \"i\", \"me\", \"my\", \"myself\", \"we\", \"our\", \"ours\", \"ourselves\", \"you\", \"your\", \"yours\", \"yourself\", \"yourselves\", \"he\", \"him\", \"his\", \"himself\", \"she\", \"her\", \"hers\", \"herself\", \"it\", \"its\", \"itself\", \"they\", \"them\", \"their\", \"theirs\", \"themselves\", \"what\", \"which\", \"who\", \"whom\", \"this\", \"that\", \"these\", \"those\", \"am\", \"is\", \"are\", \"was\", \"were\", \"be\", \"been\", \"being\", \"have\", \"has\", \"had\", \"having\", \"do\", \"does\", \"did\", \"doing\", \"a\", \"an\", \"the\", \"and\", \"but\", \"if\", \"or\", \"because\", \"as\", \"until\", \"while\", \"of\", \"at\", \"by\", \"for\", \"with\", \"about\", \"against\", \"between\", \"into\", \"through\", \"during\", \"before\", \"after\", \"above\", \"below\", \"to\", \"from\", \"up\", \"down\", \"in\", \"out\", \"on\", \"off\", \"over\", \"under\", \"again\", \"further\", \"then\", \"once\", \"here\", \"there\", \"when\", \"where\", \"why\", \"how\", \"all\", \"any\", \"both\", \"each\", \"few\", \"more\", \"most\", \"other\", \"some\", \"such\", \"no\", \"nor\", \"not\", \"only\", \"own\", \"same\", \"so\", \"than\", \"too\", \"very\", \"s\", \"t\", \"can\", \"will\", \"just\", \"don\", \"should\", \"now\"]\n",
    "dif = ord('a')-ord('A')\n",
    "stop_words = [chr(ord(i[0])-dif)+i[1:] for i in stop_words] + stop_words + [\"\"]"
   ]
  },
  {
   "cell_type": "code",
   "execution_count": 41,
   "metadata": {},
   "outputs": [],
   "source": [
    "def in_sw(word):\n",
    "    if word in stop_words:\n",
    "        return True\n",
    "    else:\n",
    "        return False"
   ]
  },
  {
   "cell_type": "code",
   "execution_count": 42,
   "metadata": {},
   "outputs": [],
   "source": [
    "#test\n",
    "for i in stop_words:\n",
    "    if in_sw(i) == False:\n",
    "        print('bloody hell!')\n",
    "        break"
   ]
  },
  {
   "cell_type": "markdown",
   "metadata": {},
   "source": [
    "### 72. 素性抽出\n",
    "極性分析に有用そうな素性を各自で設計し，学習データから素性を抽出せよ．素性としては，レビューからストップワードを除去し，各単語をステミング処理したものが最低限のベースラインとなるであろう．"
   ]
  },
  {
   "cell_type": "code",
   "execution_count": 43,
   "metadata": {},
   "outputs": [],
   "source": [
    "from stemming.porter2 import stem\n",
    "import re\n",
    "from collections import Counter"
   ]
  },
  {
   "cell_type": "code",
   "execution_count": 44,
   "metadata": {},
   "outputs": [],
   "source": [
    "with open('data/file72', 'w'):\n",
    "    pass\n",
    "with open('data/file72', 'a')as a:\n",
    "    for line in open('data/sentiment.txt'):\n",
    "        a.write(' '.join([stem(word) for word in line[2:].split() if not in_sw(stem(word))]) + '\\n')"
   ]
  },
  {
   "cell_type": "code",
   "execution_count": 47,
   "metadata": {},
   "outputs": [
    {
     "name": "stdout",
     "output_type": "stream",
     "text": [
      "115042\n"
     ]
    }
   ],
   "source": [
    "words = []\n",
    "for line in open('data/file72'):\n",
    "    words = words + line.split()\n",
    "count=Counter(words)\n",
    "print(len(words))\n",
    "del words"
   ]
  },
  {
   "cell_type": "code",
   "execution_count": 53,
   "metadata": {},
   "outputs": [
    {
     "data": {
      "text/plain": [
       "[('film', 1800),\n",
       " ('movi', 1543),\n",
       " ('like', 805),\n",
       " ('make', 611),\n",
       " ('stori', 536),\n",
       " ('one', 763)]"
      ]
     },
     "execution_count": 53,
     "metadata": {},
     "output_type": "execute_result"
    }
   ],
   "source": [
    "[(i, count[i]) for i in count if count[i] > 500]"
   ]
  },
  {
   "cell_type": "code",
   "execution_count": 66,
   "metadata": {},
   "outputs": [],
   "source": [
    "with open('data/features', 'w')as w:\n",
    "    w.write('\\n'.join([i for i in count if count[i] >= 10 and count[i] < 1000 ]))"
   ]
  },
  {
   "cell_type": "code",
   "execution_count": 69,
   "metadata": {},
   "outputs": [
    {
     "data": {
      "text/plain": [
       "2108"
      ]
     },
     "execution_count": 69,
     "metadata": {},
     "output_type": "execute_result"
    }
   ],
   "source": [
    "len([i for i in count if count[i] >= 10 and count[i] < 1000 ])"
   ]
  },
  {
   "cell_type": "markdown",
   "metadata": {},
   "source": [
    "### 73. 学習\n",
    "72で抽出した素性を用いて，ロジスティック回帰モデルを学習せよ．"
   ]
  },
  {
   "cell_type": "code",
   "execution_count": 187,
   "metadata": {},
   "outputs": [],
   "source": [
    "import numpy as np\n",
    "import scipy as sp"
   ]
  },
  {
   "cell_type": "code",
   "execution_count": 148,
   "metadata": {},
   "outputs": [],
   "source": [
    "answer = []\n",
    "for line in open('data/sentiment.txt'):\n",
    "    answer.append(int(line[:2])/2+0.5)\n",
    "answer = np.array(answer)"
   ]
  },
  {
   "cell_type": "code",
   "execution_count": 113,
   "metadata": {},
   "outputs": [
    {
     "name": "stdout",
     "output_type": "stream",
     "text": [
      "2108\n"
     ]
    }
   ],
   "source": [
    "with open('data/features')as r:\n",
    "    features = r.read().split()\n",
    "print(len(features))"
   ]
  },
  {
   "cell_type": "code",
   "execution_count": 240,
   "metadata": {},
   "outputs": [],
   "source": [
    "matrix = np.zeros((10662, 2109))\n",
    "matrix[:,0] = 1\n",
    "for line, i in zip(open('data/file72'), range(10662)):\n",
    "    for word in  line.split():\n",
    "        if word in features:\n",
    "            matrix[i][features.index(word) + 1] = 1"
   ]
  },
  {
   "cell_type": "code",
   "execution_count": 261,
   "metadata": {},
   "outputs": [],
   "source": [
    "v = np.random.rand(2109)\n",
    "\n",
    "#matrix[:,1:]=standardize(matrix[:,1:])\n",
    "\n",
    "def standardize(x):\n",
    "    mean = x.mean()\n",
    "    std = x.std()\n",
    "    return  (x - mean) / std \n",
    "\n",
    "def sigmoid(x):\n",
    "    return 1/(1 + np.exp(-x))\n",
    "sigmoids = np.frompyfunc(sigmoid, 1, 1)\n",
    "\n",
    "N = 100\n",
    "for _ in range(N):\n",
    "    v = v + 0.001 * np.dot(answer - sigmoids(np.dot(matrix,v)), matrix)"
   ]
  },
  {
   "cell_type": "markdown",
   "metadata": {},
   "source": [
    "### 74. 予測\n",
    "73で学習したロジスティック回帰モデルを用い，与えられた文の極性ラベル（正例なら\"+1\"，負例なら\"-1\"）と，その予測確率を計算するプログラムを実装せよ．"
   ]
  },
  {
   "cell_type": "markdown",
   "metadata": {},
   "source": [
    "→76へ"
   ]
  },
  {
   "cell_type": "markdown",
   "metadata": {},
   "source": [
    "### 75. 素性の重み\n",
    "73で学習したロジスティック回帰モデルの中で，重みの高い素性トップ10と，重みの低い素性トップ10を確認せよ．"
   ]
  },
  {
   "cell_type": "code",
   "execution_count": 282,
   "metadata": {},
   "outputs": [],
   "source": [
    "lst75 = sorted(list(enumerate(list(v))), key = lambda x: x[1], reverse = True)"
   ]
  },
  {
   "cell_type": "code",
   "execution_count": 283,
   "metadata": {
    "scrolled": true
   },
   "outputs": [
    {
     "data": {
      "text/plain": [
       "['refresh',\n",
       " 'quiet',\n",
       " 'engross',\n",
       " 'beauti',\n",
       " 'unexpect',\n",
       " 'glorious',\n",
       " 'delight',\n",
       " 'cinema',\n",
       " 'witti',\n",
       " 'solid']"
      ]
     },
     "execution_count": 283,
     "metadata": {},
     "output_type": "execute_result"
    }
   ],
   "source": [
    "[features[i[0]-1] for i in lst75][:10]"
   ]
  },
  {
   "cell_type": "code",
   "execution_count": 284,
   "metadata": {},
   "outputs": [
    {
     "data": {
      "text/plain": [
       "['neither',\n",
       " 'joke',\n",
       " 'tour',\n",
       " 'worst',\n",
       " 'video',\n",
       " 'fail',\n",
       " 'dull',\n",
       " 'lack',\n",
       " 'bore',\n",
       " 'bad']"
      ]
     },
     "execution_count": 284,
     "metadata": {},
     "output_type": "execute_result"
    }
   ],
   "source": [
    "[features[i[0]-1] for i in lst75][-10:]"
   ]
  },
  {
   "cell_type": "markdown",
   "metadata": {},
   "source": [
    "### 76. ラベル付け\n",
    "学習データに対してロジスティック回帰モデルを適用し，正解のラベル，予測されたラベル，予測確率をタブ区切り形式で出力せよ．"
   ]
  },
  {
   "cell_type": "code",
   "execution_count": 290,
   "metadata": {},
   "outputs": [],
   "source": [
    "with open('data/file76', 'w'):\n",
    "    pass\n",
    "with open('data/file76', 'a')as a:\n",
    "    for i, j in zip(answer, sigmoids(np.dot(matrix,v))):\n",
    "        if j > 0.5:\n",
    "            a.write(str(int(i)) + '\\t' + str(1) + '\\t' + str(j)+ '\\n')\n",
    "        else:\n",
    "            a.write(str(int(i)) + '\\t' + str(0) + '\\t' + str(1 - j) + '\\n')"
   ]
  },
  {
   "cell_type": "markdown",
   "metadata": {},
   "source": [
    "### 77. 正解率の計測\n",
    "76の出力を受け取り，予測の正解率，正例に関する適合率，再現率，F1スコアを求めるプログラムを作成せよ．"
   ]
  },
  {
   "cell_type": "markdown",
   "metadata": {},
   "source": [
    "予測の正解率"
   ]
  },
  {
   "cell_type": "code",
   "execution_count": 294,
   "metadata": {},
   "outputs": [
    {
     "name": "stdout",
     "output_type": "stream",
     "text": [
      "77.27443256424685\n"
     ]
    }
   ],
   "source": [
    "lst = []\n",
    "for line in open('data/file76'):\n",
    "    x = line.split()\n",
    "    if x[0] == x[1]:\n",
    "        lst.append(True)\n",
    "    else:\n",
    "        lst.append(False)\n",
    "print(len([i for i in lst if i == True])/len(lst)*100)"
   ]
  },
  {
   "cell_type": "markdown",
   "metadata": {},
   "source": [
    "正例に関する適合率 (precision rate)：　正例を正例と予測できた数 / 正例と予測した数"
   ]
  },
  {
   "cell_type": "code",
   "execution_count": 297,
   "metadata": {},
   "outputs": [
    {
     "name": "stdout",
     "output_type": "stream",
     "text": [
      "76.75745307324254\n"
     ]
    }
   ],
   "source": [
    "lst = []\n",
    "for line in open('data/file76'):\n",
    "    x = line.split()\n",
    "    if x[0] == '1' and x[1] == '1':\n",
    "        lst.append(True)\n",
    "    elif x[1] == '1':\n",
    "        lst.append(False)\n",
    "print(len([i for i in lst if i == True])/len(lst)*100)"
   ]
  },
  {
   "cell_type": "markdown",
   "metadata": {},
   "source": [
    "再現率 (recall rate)：　正例を正例と予測できた数　/ 　実際の正例の数"
   ]
  },
  {
   "cell_type": "code",
   "execution_count": 298,
   "metadata": {},
   "outputs": [
    {
     "name": "stdout",
     "output_type": "stream",
     "text": [
      "78.24048021009192\n"
     ]
    }
   ],
   "source": [
    "lst = []\n",
    "for line in open('data/file76'):\n",
    "    x = line.split()\n",
    "    if x[0] == '1' and x[1] == '1':\n",
    "        lst.append(True)\n",
    "    elif x[0] == '1':\n",
    "        lst.append(False)\n",
    "print(len([i for i in lst if i == True])/len(lst)*100)"
   ]
  },
  {
   "cell_type": "markdown",
   "metadata": {},
   "source": [
    "F1スコア　適合率と再現率の調和平均 = ( 2 * 適合率　* 再現率 ) / ( 適合率 + 再現率 )"
   ]
  },
  {
   "cell_type": "code",
   "execution_count": 299,
   "metadata": {},
   "outputs": [
    {
     "name": "stdout",
     "output_type": "stream",
     "text": [
      "77.49187180678123\n"
     ]
    }
   ],
   "source": [
    "a=76.75745307324254\n",
    "b=78.24048021009192\n",
    "print((2 * a * b) / (a + b))"
   ]
  },
  {
   "cell_type": "markdown",
   "metadata": {},
   "source": [
    "### 78. 5分割交差検定\n",
    "76-77の実験では，学習に用いた事例を評価にも用いたため，正当な評価とは言えない．すなわち，分類器が訓練事例を丸暗記する際の性能を評価しており，モデルの汎化性能を測定していない．そこで，5分割交差検定により，極性分類の正解率，適合率，再現率，F1スコアを求めよ．"
   ]
  },
  {
   "cell_type": "markdown",
   "metadata": {},
   "source": [
    "4/5で訓練して1/5でテストする"
   ]
  },
  {
   "cell_type": "code",
   "execution_count": 300,
   "metadata": {},
   "outputs": [
    {
     "data": {
      "text/plain": [
       "2132.4"
      ]
     },
     "execution_count": 300,
     "metadata": {},
     "output_type": "execute_result"
    }
   ],
   "source": [
    "10662/5"
   ]
  },
  {
   "cell_type": "code",
   "execution_count": 303,
   "metadata": {},
   "outputs": [],
   "source": [
    "matrix1of5 = matrix[:2133]\n",
    "matrix4of5 = matrix[2133:]\n",
    "answer1of5 = answer[:2133]\n",
    "answer4of5 = answer[2133:]"
   ]
  },
  {
   "cell_type": "code",
   "execution_count": 306,
   "metadata": {},
   "outputs": [],
   "source": [
    "v2 = np.random.rand(2109)\n",
    "\n",
    "N = 100\n",
    "for _ in range(N):\n",
    "    v2 = v2 + 0.001 * np.dot(answer4of5 - sigmoids(np.dot(matrix4of5,v2)), matrix4of5)"
   ]
  },
  {
   "cell_type": "code",
   "execution_count": 307,
   "metadata": {},
   "outputs": [],
   "source": [
    "with open('data/file78', 'w'):\n",
    "    pass\n",
    "with open('data/file78', 'a')as a:\n",
    "    for i, j in zip(answer1of5, sigmoids(np.dot(matrix1of5,v2))):\n",
    "        if j > 0.5:\n",
    "            a.write(str(int(i)) + '\\t' + str(1) + '\\t' + str(j)+ '\\n')\n",
    "        else:\n",
    "            a.write(str(int(i)) + '\\t' + str(0) + '\\t' + str(1 - j) + '\\n')"
   ]
  },
  {
   "cell_type": "markdown",
   "metadata": {},
   "source": [
    "正解率"
   ]
  },
  {
   "cell_type": "code",
   "execution_count": 316,
   "metadata": {
    "scrolled": true
   },
   "outputs": [
    {
     "name": "stdout",
     "output_type": "stream",
     "text": [
      "71.0267229254571\n"
     ]
    }
   ],
   "source": [
    "lst = []\n",
    "for line in open('data/file78'):\n",
    "    x = line.split()\n",
    "    if x[0] == x[1]:\n",
    "        lst.append(True)\n",
    "    else:\n",
    "        lst.append(False)\n",
    "print(len([i for i in lst if i == True])/len(lst)*100)"
   ]
  },
  {
   "cell_type": "markdown",
   "metadata": {},
   "source": [
    "適合率"
   ]
  },
  {
   "cell_type": "code",
   "execution_count": 313,
   "metadata": {},
   "outputs": [
    {
     "name": "stdout",
     "output_type": "stream",
     "text": [
      "70.54337464251668\n"
     ]
    }
   ],
   "source": [
    "lst = []\n",
    "for line in open('data/file78'):\n",
    "    x = line.split()\n",
    "    if x[0] == '1' and x[1] == '1':\n",
    "        lst.append(True)\n",
    "    elif x[1] == '1':\n",
    "        lst.append(False)\n",
    "print(len([i for i in lst if i == True])/len(lst)*100)"
   ]
  },
  {
   "cell_type": "markdown",
   "metadata": {},
   "source": [
    "再現率"
   ]
  },
  {
   "cell_type": "code",
   "execution_count": 317,
   "metadata": {},
   "outputs": [
    {
     "name": "stdout",
     "output_type": "stream",
     "text": [
      "70.54337464251668\n"
     ]
    }
   ],
   "source": [
    "lst = []\n",
    "for line in open('data/file78'):\n",
    "    x = line.split()\n",
    "    if x[0] == '1' and x[1] == '1':\n",
    "        lst.append(True)\n",
    "    elif x[0] == '1':\n",
    "        lst.append(False)\n",
    "print(len([i for i in lst if i == True])/len(lst)*100)"
   ]
  },
  {
   "cell_type": "markdown",
   "metadata": {},
   "source": [
    "F1"
   ]
  },
  {
   "cell_type": "code",
   "execution_count": 315,
   "metadata": {},
   "outputs": [
    {
     "name": "stdout",
     "output_type": "stream",
     "text": [
      "70.54337464251668\n"
     ]
    }
   ],
   "source": [
    "a=70.54337464251668\n",
    "b=70.54337464251668\n",
    "print((2 * a * b) / (a + b))"
   ]
  },
  {
   "cell_type": "markdown",
   "metadata": {},
   "source": [
    "### 79. 適合率-再現率グラフの描画\n",
    "ロジスティック回帰モデルの分類の閾値を変化させることで，適合率-再現率グラフを描画せよ．"
   ]
  },
  {
   "cell_type": "code",
   "execution_count": 320,
   "metadata": {},
   "outputs": [],
   "source": [
    "import matplotlib.pyplot as plt"
   ]
  },
  {
   "cell_type": "code",
   "execution_count": 363,
   "metadata": {},
   "outputs": [],
   "source": [
    "with open('data/file79', 'w'):\n",
    "    pass\n",
    "with open('data/file79', 'a')as a:\n",
    "    for i, j in zip(answer1of5, sigmoids(np.dot(matrix1of5,v2))):\n",
    "        a.write(str(int(i)) + '\\t' + str(1) + '\\t' + str(j)+ '\\n')"
   ]
  },
  {
   "cell_type": "code",
   "execution_count": 366,
   "metadata": {
    "scrolled": false
   },
   "outputs": [
    {
     "data": {
      "image/png": "[encoded data removed]",
      "text/plain": [
       "<Figure size 432x288 with 1 Axes>"
      ]
     },
     "metadata": {
      "needs_background": "light"
     },
     "output_type": "display_data"
    }
   ],
   "source": [
    "def precision_rate(lst79):\n",
    "    lst=[]\n",
    "    for x in lst79:\n",
    "        if x[0] == 1 and x[1] == 1:\n",
    "            lst.append(True)\n",
    "        elif x[1] == 1:\n",
    "            lst.append(False)\n",
    "    return len([i for i in lst if i == True])/len(lst)*100\n",
    "\n",
    "def recall_rate(lst79):\n",
    "    lst=[]\n",
    "    for x in lst79:\n",
    "        if x[0] == 1 and x[1] == 1:\n",
    "            lst.append(True)\n",
    "        elif x[0] == 1:\n",
    "            lst.append(False)\n",
    "    return len([i for i in lst if i == True])/len(lst)*100\n",
    "\n",
    "def f79(x):\n",
    "    lst79 = []\n",
    "    for line in open('data/file79'):\n",
    "        data = line.split()\n",
    "        i, j = int(data[0]), float(data[2])\n",
    "        if j > x:\n",
    "            lst79.append([i, 1])\n",
    "        else:\n",
    "            lst79.append([i, 0])\n",
    "    #print(lst79)\n",
    "    return precision_rate(lst79), recall_rate(lst79)\n",
    "\n",
    "f = np.frompyfunc(f79, 1, 2)\n",
    "\n",
    "X = np.linspace(0, 1, 100, endpoint = False)\n",
    "p, r = f(X)\n",
    "plt.plot(X, p, label = 'precision rate')\n",
    "plt.plot(X, r, label = 'recall rate')\n",
    "plt.legend()\n",
    "plt.show()"
   ]
  },
  {
   "cell_type": "code",
   "execution_count": null,
   "metadata": {},
   "outputs": [],
   "source": []
  }
 ],
 "metadata": {
  "kernelspec": {
   "display_name": "Python 3",
   "language": "python",
   "name": "python3"
  },
  "language_info": {
   "codemirror_mode": {
    "name": "ipython",
    "version": 3
   },
   "file_extension": ".py",
   "mimetype": "text/x-python",
   "name": "python",
   "nbconvert_exporter": "python",
   "pygments_lexer": "ipython3",
   "version": "3.7.2"
  }
 },
 "nbformat": 4,
 "nbformat_minor": 2
}
