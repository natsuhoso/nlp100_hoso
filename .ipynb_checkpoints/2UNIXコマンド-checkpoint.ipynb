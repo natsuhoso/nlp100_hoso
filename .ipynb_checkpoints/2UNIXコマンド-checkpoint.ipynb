{
 "cells": [
  {
   "cell_type": "code",
   "execution_count": 1,
   "metadata": {},
   "outputs": [],
   "source": [
    "import subprocess\n",
    "def system(command, **options):\n",
    "    proc = subprocess.Popen(command, shell=True,\n",
    "                            stdout=subprocess.PIPE,\n",
    "                            **options)\n",
    "    return proc.communicate()[0].decode('utf-8')\n",
    "\n",
    "def cat(filepath):\n",
    "    return system(f'cat {filepath}')"
   ]
  },
  {
   "cell_type": "markdown",
   "metadata": {},
   "source": [
    "### hightemp.txt"
   ]
  },
  {
   "cell_type": "code",
   "execution_count": 2,
   "metadata": {},
   "outputs": [],
   "source": [
    "with open('data/hightemp.txt') as r:\n",
    "    hightemp = r.read()"
   ]
  },
  {
   "cell_type": "markdown",
   "metadata": {},
   "source": [
    "### 10. 行数のカウント\n",
    "行数をカウントせよ．確認にはwcコマンドを用いよ．"
   ]
  },
  {
   "cell_type": "code",
   "execution_count": 3,
   "metadata": {},
   "outputs": [
    {
     "data": {
      "text/plain": [
       "23"
      ]
     },
     "execution_count": 3,
     "metadata": {},
     "output_type": "execute_result"
    }
   ],
   "source": [
    "hightemp.count('\\n')"
   ]
  },
  {
   "cell_type": "code",
   "execution_count": 4,
   "metadata": {
    "scrolled": true
   },
   "outputs": [
    {
     "data": {
      "text/plain": [
       "'      23 data/hightemp.txt\\n'"
      ]
     },
     "execution_count": 4,
     "metadata": {},
     "output_type": "execute_result"
    }
   ],
   "source": [
    "system(f'wc -l data/hightemp.txt\\n')"
   ]
  },
  {
   "cell_type": "markdown",
   "metadata": {},
   "source": [
    "### 11. タブをスペースに置換\n",
    "タブ1文字につきスペース1文字に置換せよ．確認にはsedコマンド，trコマンド，もしくはexpandコマンドを用いよ．"
   ]
  },
  {
   "cell_type": "code",
   "execution_count": 5,
   "metadata": {},
   "outputs": [
    {
     "data": {
      "text/plain": [
       "'高知県 江川崎 41 2013-08-12\\n埼玉県 熊谷 40.9 2007-08-16\\n岐阜県 多治見 40.9 2007-08-16\\n山形県 山形 40.8 1933-07-25\\n山梨県 甲府 40.7 2013-08-10\\n和歌山県 かつらぎ 40.6 1994-08-08\\n静岡県 天竜 40.6 1994-08-04\\n山梨県 勝沼 40.5 2013-08-10\\n埼玉県 越谷 40.4 2007-08-16\\n群馬県 館林 40.3 2007-08-16\\n群馬県 上里見 40.3 1998-07-04\\n愛知県 愛西 40.3 1994-08-05\\n千葉県 牛久 40.2 2004-07-20\\n静岡県 佐久間 40.2 2001-07-24\\n愛媛県 宇和島 40.2 1927-07-22\\n山形県 酒田 40.1 1978-08-03\\n岐阜県 美濃 40 2007-08-16\\n群馬県 前橋 40 2001-07-24\\n千葉県 茂原 39.9 2013-08-11\\n埼玉県 鳩山 39.9 1997-07-05\\n大阪府 豊中 39.9 1994-08-08\\n山梨県 大月 39.9 1990-07-19\\n山形県 鶴岡 39.9 1978-08-03\\n愛知県 名古屋 39.9 1942-08-02'"
      ]
     },
     "execution_count": 5,
     "metadata": {},
     "output_type": "execute_result"
    }
   ],
   "source": [
    "hightemp.replace('\\t',' ')"
   ]
  },
  {
   "cell_type": "code",
   "execution_count": 6,
   "metadata": {},
   "outputs": [
    {
     "data": {
      "text/plain": [
       "True"
      ]
     },
     "execution_count": 6,
     "metadata": {},
     "output_type": "execute_result"
    }
   ],
   "source": [
    "hightemp.replace('\\t',' ') == system(f\"tr '\\t' ' ' < data/hightemp.txt\")"
   ]
  },
  {
   "cell_type": "markdown",
   "metadata": {},
   "source": [
    "### 12. 1列目をcol1.txtに，2列目をcol2.txtに保存\n",
    "各行の1列目だけを抜き出したものをcol1.txtに，2列目だけを抜き出したものをcol2.txtとしてファイルに保存せよ．確認にはcutコマンドを用いよ．"
   ]
  },
  {
   "cell_type": "code",
   "execution_count": 41,
   "metadata": {},
   "outputs": [],
   "source": [
    "import numpy as np\n",
    "matrix = np.array([i.split('\\t') for i in hightemp.split('\\n')])"
   ]
  },
  {
   "cell_type": "code",
   "execution_count": 46,
   "metadata": {},
   "outputs": [
    {
     "data": {
      "text/plain": [
       "True"
      ]
     },
     "execution_count": 46,
     "metadata": {},
     "output_type": "execute_result"
    }
   ],
   "source": [
    "with open('data/col1.txt', mode = 'w') as w:\n",
    "    w.write('\\n'.join(matrix[:,0]))\n",
    "system(f'cut -f 1 data/hightemp.txt') == cat(f'data/col1.txt') + '\\n'"
   ]
  },
  {
   "cell_type": "code",
   "execution_count": 47,
   "metadata": {},
   "outputs": [
    {
     "data": {
      "text/plain": [
       "True"
      ]
     },
     "execution_count": 47,
     "metadata": {},
     "output_type": "execute_result"
    }
   ],
   "source": [
    "with open('data/col2.txt', mode = 'w') as w:\n",
    "    w.write('\\n'.join(matrix[:,1]))\n",
    "system(f'cut -f 2 data/hightemp.txt') == cat(f'data/col2.txt') + '\\n'"
   ]
  },
  {
   "cell_type": "markdown",
   "metadata": {},
   "source": [
    "### 13. col1.txtとcol2.txtをマージ\n",
    "12で作ったcol1.txtとcol2.txtを結合し，元のファイルの1列目と2列目をタブ区切りで並べたテキストファイルを作成せよ．確認にはpasteコマンドを用いよ．"
   ]
  },
  {
   "cell_type": "code",
   "execution_count": 76,
   "metadata": {},
   "outputs": [
    {
     "data": {
      "text/plain": [
       "True"
      ]
     },
     "execution_count": 76,
     "metadata": {},
     "output_type": "execute_result"
    }
   ],
   "source": [
    "with open('data/col1.txt') as r:\n",
    "    col1 = np.array(r.read().split('\\n'))\n",
    "with open('data/col2.txt') as r:\n",
    "    col2 = np.array(r.read().split('\\n'))\n",
    "with open('data/file13.txt', mode = 'w') as w:\n",
    "    w.write('\\n'.join(['\\t'.join(i) for i in np.array((col1,col2)).T]))#ここで新ファイルを作成\n",
    "system(f'paste data/col1.txt data/col2.txt') == cat(f'data/file13.txt') + '\\n'"
   ]
  }
 ],
 "metadata": {
  "kernelspec": {
   "display_name": "Python 3",
   "language": "python",
   "name": "python3"
  },
  "language_info": {
   "codemirror_mode": {
    "name": "ipython",
    "version": 3
   },
   "file_extension": ".py",
   "mimetype": "text/x-python",
   "name": "python",
   "nbconvert_exporter": "python",
   "pygments_lexer": "ipython3",
   "version": "3.7.2"
  }
 },
 "nbformat": 4,
 "nbformat_minor": 2
}
