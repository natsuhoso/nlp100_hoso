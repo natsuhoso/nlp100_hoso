{
 "cells": [
  {
   "cell_type": "markdown",
   "metadata": {},
   "source": [
    "### 70. データの入手・整形\n",
    "文に関する極性分析の正解データを用い，以下の要領で正解データ（sentiment.txt）を作成せよ．\n",
    "\n",
    "1. rt-polarity.posの各行の先頭に\"+1 \"という文字列を追加する（極性ラベル\"+1\"とスペースに続けて肯定的な文の内容が続く）\n",
    "2. rt-polarity.negの各行の先頭に\"-1 \"という文字列を追加する（極性ラベル\"-1\"とスペースに続けて否定的な文の内容が続く）\n",
    "3. 上述1と2の内容を結合（concatenate）し，行をランダムに並び替える\n",
    "\n",
    "sentiment.txtを作成したら，正例（肯定的な文）の数と負例（否定的な文）の数を確認せよ．"
   ]
  },
  {
   "cell_type": "code",
   "execution_count": 1,
   "metadata": {},
   "outputs": [],
   "source": [
    "with open('data/sentiment.txt', 'w'):\n",
    "    pass\n",
    "with open('data/sentiment.txt', 'a')as a:\n",
    "    for pos, neg in zip(open('data/rt-polarity.pos'), open('data/rt-polarity.neg')):\n",
    "        a.write('+1 ' + pos)\n",
    "        a.write('-1 ' + neg)"
   ]
  },
  {
   "cell_type": "code",
   "execution_count": 2,
   "metadata": {},
   "outputs": [],
   "source": [
    "!sort data/sentiment.txt -R -o data/sentiment.txt"
   ]
  },
  {
   "cell_type": "code",
   "execution_count": 3,
   "metadata": {},
   "outputs": [
    {
     "name": "stdout",
     "output_type": "stream",
     "text": [
      "5331\n",
      "5331\n"
     ]
    }
   ],
   "source": [
    "pos = 0\n",
    "neg = 0\n",
    "for line in open('data/sentiment.txt'):\n",
    "    if line[:2] == '+1':\n",
    "        pos = pos + 1\n",
    "    else:\n",
    "        neg = neg + 1\n",
    "print(pos)\n",
    "print(neg)"
   ]
  },
  {
   "cell_type": "markdown",
   "metadata": {},
   "source": [
    "### 71. ストップワード\n",
    "英語のストップワードのリスト（ストップリスト）を適当に作成せよ．さらに，引数に与えられた単語（文字列）がストップリストに含まれている場合は真，それ以外は偽を返す関数を実装せよ．さらに，その関数に対するテストを記述せよ．\n",
    "\n",
    "ストップワード：自然言語を処理するにあたって一般的であるなどの理由で処理対象外とする単語"
   ]
  },
  {
   "cell_type": "code",
   "execution_count": 24,
   "metadata": {},
   "outputs": [],
   "source": [
    "#ググって拾ってきた\n",
    "stop_words=[\",\", \".\", \"\\'\", \"\\\"\", \"i\", \"me\", \"my\", \"myself\", \"we\", \"our\", \"ours\", \"ourselves\", \"you\", \"your\", \"yours\", \"yourself\", \"yourselves\", \"he\", \"him\", \"his\", \"himself\", \"she\", \"her\", \"hers\", \"herself\", \"it\", \"its\", \"itself\", \"they\", \"them\", \"their\", \"theirs\", \"themselves\", \"what\", \"which\", \"who\", \"whom\", \"this\", \"that\", \"these\", \"those\", \"am\", \"is\", \"are\", \"was\", \"were\", \"be\", \"been\", \"being\", \"have\", \"has\", \"had\", \"having\", \"do\", \"does\", \"did\", \"doing\", \"a\", \"an\", \"the\", \"and\", \"but\", \"if\", \"or\", \"because\", \"as\", \"until\", \"while\", \"of\", \"at\", \"by\", \"for\", \"with\", \"about\", \"against\", \"between\", \"into\", \"through\", \"during\", \"before\", \"after\", \"above\", \"below\", \"to\", \"from\", \"up\", \"down\", \"in\", \"out\", \"on\", \"off\", \"over\", \"under\", \"again\", \"further\", \"then\", \"once\", \"here\", \"there\", \"when\", \"where\", \"why\", \"how\", \"all\", \"any\", \"both\", \"each\", \"few\", \"more\", \"most\", \"other\", \"some\", \"such\", \"no\", \"nor\", \"not\", \"only\", \"own\", \"same\", \"so\", \"than\", \"too\", \"very\", \"s\", \"t\", \"can\", \"will\", \"just\", \"don\", \"should\", \"now\"]\n",
    "dif = ord('a')-ord('A')\n",
    "stop_words = [chr(ord(i[0])-dif)+i[1:] for i in stop_words] + stop_words"
   ]
  },
  {
   "cell_type": "code",
   "execution_count": 25,
   "metadata": {},
   "outputs": [],
   "source": [
    "def in_sw(word):\n",
    "    if word in stop_words:\n",
    "        return True\n",
    "    else:\n",
    "        return False"
   ]
  },
  {
   "cell_type": "code",
   "execution_count": 26,
   "metadata": {},
   "outputs": [],
   "source": [
    "#test\n",
    "for i in stop_words:\n",
    "    if in_sw(i) == False:\n",
    "        print('bloody hell!')\n",
    "        break"
   ]
  },
  {
   "cell_type": "markdown",
   "metadata": {},
   "source": [
    "### 72. 素性抽出\n",
    "極性分析に有用そうな素性を各自で設計し，学習データから素性を抽出せよ．素性としては，レビューからストップワードを除去し，各単語をステミング処理したものが最低限のベースラインとなるであろう．"
   ]
  },
  {
   "cell_type": "code",
   "execution_count": 19,
   "metadata": {},
   "outputs": [],
   "source": [
    "from stemming.porter2 import stem"
   ]
  },
  {
   "cell_type": "code",
   "execution_count": 27,
   "metadata": {
    "scrolled": false
   },
   "outputs": [
    {
     "name": "stdout",
     "output_type": "stream",
     "text": [
      "['rock', 'destin', '21st', 'centuri', 'new', 'conan', 'he', 'go', 'make', 'splash', 'even', 'greater', 'arnold', 'schwarzenegg', 'jean-claud', 'van', 'damm', 'steven', 'segal']\n",
      "['gorgeous', 'elabor', 'continu', 'lord', 'ring', 'trilog', 'huge', 'column', 'word', 'cannot', 'adequ', 'describ', 'co-writer/director', 'peter', 'jackson', 'expand', 'vision', 'j', 'r', 'r', 'tolkien', 'middle-earth']\n",
      "['effect', 'too-tepid', 'biopic']\n",
      "['sometim', 'like', 'go', 'movi', 'fun', 'wasabi', 'good', 'place', 'start']\n",
      "['emerg', 'someth', 'rare', 'issu', 'movi', 'that', 'honest', 'keen', 'observ', \"doesn't\", 'feel', 'like', 'one']\n",
      "['film', 'provid', 'great', 'insight', 'neurot', 'mindset', 'comic', '--', 'even', 'reach', 'absolut', 'top', 'game']\n",
      "['offer', 'rare', 'combin', 'entertain', 'educ']\n",
      "['perhap', 'pictur', 'ever', 'made', 'liter', 'show', 'road', 'hell', 'pave', 'good', 'intent']\n",
      "['steer', 'turn', 'snappi', 'screenplay', 'curl', 'edg', ';', 'it', 'clever', 'want', 'hate', 'somehow', 'pull']\n",
      "['take', 'care', 'cat', 'offer', 'refresh', 'differ', 'slice', 'asian', 'cinema']\n"
     ]
    }
   ],
   "source": [
    "i=0\n",
    "for line in open('data/rt-polarity.pos'):\n",
    "    print([stem(j) for j in [i for i in line.split() if not in_sw(i)]])\n",
    "    i=i+1\n",
    "    if i==10:\n",
    "        break"
   ]
  },
  {
   "cell_type": "code",
   "execution_count": null,
   "metadata": {},
   "outputs": [],
   "source": []
  },
  {
   "cell_type": "code",
   "execution_count": null,
   "metadata": {},
   "outputs": [],
   "source": []
  }
 ],
 "metadata": {
  "kernelspec": {
   "display_name": "Python 3",
   "language": "python",
   "name": "python3"
  },
  "language_info": {
   "codemirror_mode": {
    "name": "ipython",
    "version": 3
   },
   "file_extension": ".py",
   "mimetype": "text/x-python",
   "name": "python",
   "nbconvert_exporter": "python",
   "pygments_lexer": "ipython3",
   "version": "3.7.2"
  }
 },
 "nbformat": 4,
 "nbformat_minor": 2
}
